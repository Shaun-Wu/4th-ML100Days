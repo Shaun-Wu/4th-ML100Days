{
 "cells": [
  {
   "cell_type": "code",
   "execution_count": null,
   "metadata": {},
   "outputs": [],
   "source": [
    "A：\n",
    "將機器學習應用在工務領域，尤其是勞力密集，國內已經很少人想從事的工種，\n",
    "如：水泥，貼磁磚等等，利用機器學習的方式，讓這些工種的進入門檻更低，不\n",
    "需要再當學徒好幾年才可以獨立工作，發展出由人操作的機器，而機器會自動運\n",
    "算或完成賦予條件限制下的任務，譬如在一個不規則的房間內需要貼上兩種磁磚\n",
    "，樣式藉由電腦繪圖傳送至機器中，讓機器運算如何貼出符合標準的樣式，操作\n",
    "上無法克服的交由人力來彌補。"
   ]
  }
 ],
 "metadata": {
  "kernelspec": {
   "display_name": "Python 3",
   "language": "python",
   "name": "python3"
  },
  "language_info": {
   "codemirror_mode": {
    "name": "ipython",
    "version": 3
   },
   "file_extension": ".py",
   "mimetype": "text/x-python",
   "name": "python",
   "nbconvert_exporter": "python",
   "pygments_lexer": "ipython3",
   "version": "3.7.3"
  }
 },
 "nbformat": 4,
 "nbformat_minor": 2
}
